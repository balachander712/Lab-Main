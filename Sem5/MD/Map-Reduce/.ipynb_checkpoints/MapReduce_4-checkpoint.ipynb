{
 "cells": [
  {
   "cell_type": "code",
   "execution_count": 1,
   "metadata": {},
   "outputs": [
    {
     "name": "stdin",
     "output_type": "stream",
     "text": [
      "Enter the word:  hey\n"
     ]
    },
    {
     "name": "stdout",
     "output_type": "stream",
     "text": [
      "{'hey': [0, 1, 2, 4]}\n"
     ]
    }
   ],
   "source": [
    "def mapper(filename, target_word):\n",
    "    map_result = []\n",
    "    line_count = 0\n",
    "    with open(filename, 'r') as file:\n",
    "        for line in file:\n",
    "            line = line.replace(\".\", \" \").replace(\",\", \" \")\n",
    "            for word in line.split():\n",
    "                if word == target_word:\n",
    "                    map_result.append((word, line_count))\n",
    "            line_count += 1\n",
    "    return map_result\n",
    "\n",
    "\n",
    "def sort_and_shuffle(map_result):\n",
    "    sort_and_shuffle_result = {}\n",
    "    for word_tuple in map_result:\n",
    "        if word_tuple[0] in sort_and_shuffle_result:\n",
    "            sort_and_shuffle_result[word_tuple[0]].append(word_tuple[1])\n",
    "        else:\n",
    "            sort_and_shuffle_result[word_tuple[0]] = [word_tuple[1]]\n",
    "    return sort_and_shuffle_result\n",
    "\n",
    "\n",
    "if __name__ == \"__main__\":\n",
    "    target_word = input(\"Enter the word: \")\n",
    "    print(sort_and_shuffle(mapper(\"test1.txt\", target_word)))"
   ]
  },
  {
   "cell_type": "code",
   "execution_count": null,
   "metadata": {},
   "outputs": [],
   "source": []
  }
 ],
 "metadata": {
  "kernelspec": {
   "display_name": "Python 3",
   "language": "python",
   "name": "python3"
  },
  "language_info": {
   "codemirror_mode": {
    "name": "ipython",
    "version": 3
   },
   "file_extension": ".py",
   "mimetype": "text/x-python",
   "name": "python",
   "nbconvert_exporter": "python",
   "pygments_lexer": "ipython3",
   "version": "3.8.5"
  }
 },
 "nbformat": 4,
 "nbformat_minor": 4
}
