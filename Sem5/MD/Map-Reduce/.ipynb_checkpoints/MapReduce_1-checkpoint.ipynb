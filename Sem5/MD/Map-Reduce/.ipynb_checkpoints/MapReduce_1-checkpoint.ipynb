{
 "cells": [
  {
   "cell_type": "code",
   "execution_count": 12,
   "metadata": {},
   "outputs": [
    {
     "name": "stdout",
     "output_type": "stream",
     "text": [
      "166018\n"
     ]
    }
   ],
   "source": [
    "def map(file):\n",
    "    count = [1 for x in file.readlines()]\n",
    "    return count\n",
    "\n",
    "def reduce(list):\n",
    "    return len(list)\n",
    "\n",
    "file1 = open('shakespeare-1.txt')\n",
    "file2 = open('shakespeare-2.txt')\n",
    "file3 = open('shakespeare-3.txt')\n",
    "\n",
    "map_result = {}\n",
    "map_result = map(file1) + map(file2) + map(file3)\n",
    "line_count = reduce(map_result)\n",
    "print(line_count)"
   ]
  },
  {
   "cell_type": "code",
   "execution_count": null,
   "metadata": {},
   "outputs": [],
   "source": []
  }
 ],
 "metadata": {
  "kernelspec": {
   "display_name": "Python 3",
   "language": "python",
   "name": "python3"
  },
  "language_info": {
   "codemirror_mode": {
    "name": "ipython",
    "version": 3
   },
   "file_extension": ".py",
   "mimetype": "text/x-python",
   "name": "python",
   "nbconvert_exporter": "python",
   "pygments_lexer": "ipython3",
   "version": "3.8.5"
  }
 },
 "nbformat": 4,
 "nbformat_minor": 4
}
