{
 "cells": [
  {
   "cell_type": "code",
   "execution_count": 1,
   "metadata": {},
   "outputs": [],
   "source": [
    "import collections\n",
    "import pprint as pp"
   ]
  },
  {
   "cell_type": "code",
   "execution_count": 3,
   "metadata": {},
   "outputs": [
    {
     "name": "stdout",
     "output_type": "stream",
     "text": [
      "{'h': 14, 'e': 19, 'y': 3, 't': 7, 'r': 13, 'l': 15, 'o': 7, 'w': 3, 'd': 17, 'i': 7, 'a': 24, 'm': 6, 'b': 4, 'c': 5, 'n': 3, 'u': 4, 'p': 3, 'x': 3, 'z': 1, 's': 7, 'k': 9, 'j': 7, 'f': 2}\n"
     ]
    }
   ],
   "source": [
    "def map(file):\n",
    "    return [(x, 1 ) for x in file.read() if x.isalpha()]\n",
    "\n",
    "def reduce(combined_list):\n",
    "    return dict((key, sum(combined_list[key])) for key in combined_list)\n",
    "\n",
    "file1 = open('test1.txt')\n",
    "file2 = open('test2.txt')\n",
    "\n",
    "\n",
    "combined_list = {}\n",
    "count = map(file1) + map(file2)\n",
    "\n",
    "for (key, value) in count:\n",
    "    if key not in combined_list:\n",
    "        combined_list[key] = [value];\n",
    "    else:\n",
    "        combined_list[key].append(value)\n",
    "        \n",
    "char_count = reduce(combined_list)\n",
    "print(char_count)"
   ]
  },
  {
   "cell_type": "code",
   "execution_count": null,
   "metadata": {},
   "outputs": [],
   "source": []
  }
 ],
 "metadata": {
  "kernelspec": {
   "display_name": "Python 3",
   "language": "python",
   "name": "python3"
  },
  "language_info": {
   "codemirror_mode": {
    "name": "ipython",
    "version": 3
   },
   "file_extension": ".py",
   "mimetype": "text/x-python",
   "name": "python",
   "nbconvert_exporter": "python",
   "pygments_lexer": "ipython3",
   "version": "3.8.5"
  }
 },
 "nbformat": 4,
 "nbformat_minor": 4
}
