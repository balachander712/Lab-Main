{
 "cells": [
  {
   "cell_type": "code",
   "execution_count": 2,
   "metadata": {},
   "outputs": [
    {
     "name": "stdout",
     "output_type": "stream",
     "text": [
      "[[31, 35, 9, 26, 33, 39],\n",
      " [38, 27, 15, 36, 2, 21],\n",
      " [3, 4, 18, 11, 16, 32],\n",
      " [13, 25, 28, 10, 8, 17],\n",
      " [1, 20, 29, 24, 22, 30],\n",
      " [19, 5, 40, 34, 37, 14]]\n"
     ]
    }
   ],
   "source": [
    "import random\n",
    "\n",
    "from pprint import pprint\n",
    "\n",
    "MAX_MEMBER = 41\n",
    "TEAMS_COUNT = 6\n",
    "TEAM_LIMIT = 6\n",
    "\n",
    "data = [i for i in range(1, MAX_MEMBER) if i not in [6, 12, 23, 7]]\n",
    "teams = [[] for _ in range(TEAMS_COUNT)]\n",
    "\n",
    "for i in range(TEAMS_COUNT):\n",
    "    for _ in range(TEAM_LIMIT):\n",
    "        member = data.pop(random.randint(0,len(data) - 1))\n",
    "        teams[i].append(member)\n",
    "\n",
    "pprint(teams)"
   ]
  },
  {
   "cell_type": "code",
   "execution_count": null,
   "metadata": {},
   "outputs": [],
   "source": []
  }
 ],
 "metadata": {
  "kernelspec": {
   "display_name": "Python 3",
   "language": "python",
   "name": "python3"
  },
  "language_info": {
   "codemirror_mode": {
    "name": "ipython",
    "version": 3
   },
   "file_extension": ".py",
   "mimetype": "text/x-python",
   "name": "python",
   "nbconvert_exporter": "python",
   "pygments_lexer": "ipython3",
   "version": "3.8.5"
  }
 },
 "nbformat": 4,
 "nbformat_minor": 4
}
