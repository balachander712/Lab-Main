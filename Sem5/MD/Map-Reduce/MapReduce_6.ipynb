{
 "cells": [
  {
   "cell_type": "code",
   "execution_count": 1,
   "metadata": {},
   "outputs": [],
   "source": [
    "import json\n",
    "\n",
    "\n",
    "def mapper(filename):\n",
    "    map_result = []\n",
    "    with open(filename, 'r') as file:\n",
    "        train_data = json.loads(file.read())\n",
    "        for train_info in train_data:\n",
    "            map_result.append((train_info['train_name'], 1))\n",
    "    return map_result\n",
    "\n",
    "\n",
    "def shuffle_sort(map_result):\n",
    "    shuffle_sort_result = {}\n",
    "    for train_info in sorted(map_result):\n",
    "        if train_info[0] in shuffle_sort_result:\n",
    "            shuffle_sort_result[train_info[0]].append(train_info[1])\n",
    "        else:\n",
    "            shuffle_sort_result[train_info[0]] = [train_info[1]]\n",
    "    return shuffle_sort_result\n",
    "\n",
    "\n",
    "def reducer(sort_and_shuffle_result):\n",
    "    reducer_result = []\n",
    "    for train_name in sort_and_shuffle_result:\n",
    "        reducer_result.append((train_name, sum(sort_and_shuffle_result[train_name])))\n",
    "    reducer_result.sort(key=lambda kv: -kv[1])\n",
    "    return reducer_result"
   ]
  },
  {
   "cell_type": "code",
   "execution_count": null,
   "metadata": {},
   "outputs": [],
   "source": []
  }
 ],
 "metadata": {
  "kernelspec": {
   "display_name": "Python 3",
   "language": "python",
   "name": "python3"
  },
  "language_info": {
   "codemirror_mode": {
    "name": "ipython",
    "version": 3
   },
   "file_extension": ".py",
   "mimetype": "text/x-python",
   "name": "python",
   "nbconvert_exporter": "python",
   "pygments_lexer": "ipython3",
   "version": "3.8.5"
  }
 },
 "nbformat": 4,
 "nbformat_minor": 4
}
