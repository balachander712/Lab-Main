{
 "cells": [
  {
   "cell_type": "code",
   "execution_count": 39,
   "metadata": {},
   "outputs": [],
   "source": [
    "import string\n",
    "file = open('test1.txt', 'r')"
   ]
  },
  {
   "cell_type": "code",
   "execution_count": 40,
   "metadata": {},
   "outputs": [],
   "source": [
    "def mapper(file):\n",
    "    count = dict()\n",
    "    \n",
    "    for line in file:\n",
    "        line = line.strip()\n",
    "        line = line.lower()\n",
    "        line = line.translate(line.maketrans(\"\", \"\", string.punctuation))\n",
    "        words = line.split(\" \")\n",
    "        \n",
    "        for word in words:\n",
    "            if word in count:\n",
    "                temp = count[word]\n",
    "                temp.append(1)\n",
    "                count[word] = temp\n",
    "            else:\n",
    "                count[word] = [1]\n",
    "    return count"
   ]
  },
  {
   "cell_type": "code",
   "execution_count": 41,
   "metadata": {},
   "outputs": [],
   "source": [
    "def reducer(_dict):\n",
    "    count = dict()\n",
    "    for key in _dict.keys():\n",
    "        count[key] = len(_dict[key])\n",
    "        "
   ]
  },
  {
   "cell_type": "code",
   "execution_count": 42,
   "metadata": {},
   "outputs": [
    {
     "name": "stdout",
     "output_type": "stream",
     "text": [
      "{'hey': [1, 1, 1, 1], 'there': [1, 1, 1], 'i': [1, 1, 1], 'am': [1, 1, 1], 'the': [1, 1], 'god': [1], 'best': [1], 'hello': [1], 'world': [1], 'here': [1], 'balachander': [1], 'tarun': [1], 'pritam': [1], 'battlebaxx': [1], 'raz': [1], 'crimson': [1], 'reckobs': [1], 'mechy': [1]}\n"
     ]
    }
   ],
   "source": [
    "map_dict = mapper(file)\n",
    "print(map_dict)"
   ]
  },
  {
   "cell_type": "code",
   "execution_count": null,
   "metadata": {},
   "outputs": [],
   "source": []
  }
 ],
 "metadata": {
  "kernelspec": {
   "display_name": "Python 3",
   "language": "python",
   "name": "python3"
  },
  "language_info": {
   "codemirror_mode": {
    "name": "ipython",
    "version": 3
   },
   "file_extension": ".py",
   "mimetype": "text/x-python",
   "name": "python",
   "nbconvert_exporter": "python",
   "pygments_lexer": "ipython3",
   "version": "3.8.5"
  }
 },
 "nbformat": 4,
 "nbformat_minor": 4
}
