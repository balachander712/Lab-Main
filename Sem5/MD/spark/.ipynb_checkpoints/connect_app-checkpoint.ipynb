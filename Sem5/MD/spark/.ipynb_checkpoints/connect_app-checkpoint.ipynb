{
 "cells": [
  {
   "cell_type": "code",
   "execution_count": 1,
   "metadata": {},
   "outputs": [],
   "source": [
    "import socket\n",
    "import sys\n",
    "import requests\n",
    "import requests_oauthlib\n",
    "import json\n",
    "import bleach\n",
    "from bs4 import BeautifulSoup"
   ]
  },
  {
   "cell_type": "code",
   "execution_count": 2,
   "metadata": {},
   "outputs": [],
   "source": [
    "ACCESS_TOKEN = '1407285570280165377-3PHLrWQe1FfOBZ1J2oWtb4TqFAJ8M6'\n",
    "ACCESS_SECRET = 'sOHYve9FI8cWkN9fISGmgJb9IrXHYKMeowTNlXqWOFkG0'\n",
    "CONSUMER_KEY = 'GQFHZGHIkxdy5hPJBJD6yV8NE'\n",
    "CONSUMER_SECRET = 'gaskSeA9oVIKuaopol1TddZpfTibCYkbWMXDZ4YBIcqfu0o0e2'\n",
    "my_auth = requests_oauthlib.OAuth1(CONSUMER_KEY, CONSUMER_SECRET,ACCESS_TOKEN, ACCESS_SECRET)\n"
   ]
  },
  {
   "cell_type": "code",
   "execution_count": 3,
   "metadata": {},
   "outputs": [],
   "source": [
    "def get_tweets():\n",
    "    url = 'https://stream.twitter.com/1.1/statuses/filter.json'\t\n",
    "    query_data = [('language', 'en'), ('locations', '-130,-20,100,50'),('track','iphone')]\n",
    "    query_url = url + '?' + '&'.join([str(t[0]) + '=' + str(t[1]) for t in query_data])\n",
    "    response = requests.get(query_url, auth=my_auth, stream=True)\n",
    "    print(query_url, response)\n",
    "    return response"
   ]
  },
  {
   "cell_type": "code",
   "execution_count": 4,
   "metadata": {},
   "outputs": [],
   "source": [
    "def send_tweets_to_spark(http_resp, tcp_connection):\n",
    "    for line in http_resp.iter_lines():\n",
    "        try:\n",
    "            full_tweet = json.loads(line)\n",
    "            tweet_text = full_tweet['text']\n",
    "            print(\"Tweet Text: \" + tweet_text)\n",
    "            print (\"------------------------------------------\")\n",
    "            tweet_screen_name = \"SN:\"+full_tweet['user']['screen_name']\n",
    "            print(\"SCREEN NAME IS : \" + tweet_screen_name)\n",
    "            print (\"------------------------------------------\")\n",
    "            source = full_tweet['source']\n",
    "            soup = BeautifulSoup(source)\n",
    "            for anchor in soup.find_all('a'):         \n",
    "                print(\"Tweet Source: \" + anchor.text)        \n",
    "                tweet_source = anchor.text\n",
    "                source_device = tweet_source.replace(\" \", \"\")\n",
    "                device = \"TS\"+source_device.replace(\"Twitter\", \"\") \n",
    "                print(\"SOURCE IS : \" + device)\n",
    "                print (\"------------------------------------------\")\n",
    "                tweet_country_code = \"CC\"+full_tweet['place']['country_code']\n",
    "                print(\"COUNTRY CODE IS : \" + tweet_country_code)\n",
    "                print (\"------------------------------------------\")\n",
    "                tcp_connection.send(tweet_text +' '+ tweet_country_code + ' '+ tweet_screen_name +' '+ device +'\\n')\n",
    "        \n",
    "        except:\n",
    "               continue\n",
    "   "
   ]
  },
  {
   "cell_type": "code",
   "execution_count": null,
   "metadata": {},
   "outputs": [
    {
     "name": "stdout",
     "output_type": "stream",
     "text": [
      "Waiting for TCP connection...\n"
     ]
    }
   ],
   "source": [
    "TCP_IP = 'localhost'\n",
    "TCP_PORT = 9000\n",
    "conn = None\n",
    "s = socket.socket(socket.AF_INET, socket.SOCK_STREAM)\n",
    "\n",
    "s.bind((TCP_IP, TCP_PORT))\n",
    "s.listen(1)\n",
    "\n",
    "print(\"Waiting for TCP connection...\")\n",
    "conn, addr = s.accept()\n",
    "\n",
    "print(\"Connected... Starting getting tweets.\")\n",
    "resp = get_tweets()\n",
    "send_tweets_to_spark(resp, conn)"
   ]
  },
  {
   "cell_type": "code",
   "execution_count": null,
   "metadata": {},
   "outputs": [],
   "source": []
  }
 ],
 "metadata": {
  "kernelspec": {
   "display_name": "Python 3",
   "language": "python",
   "name": "python3"
  },
  "language_info": {
   "codemirror_mode": {
    "name": "ipython",
    "version": 3
   },
   "file_extension": ".py",
   "mimetype": "text/x-python",
   "name": "python",
   "nbconvert_exporter": "python",
   "pygments_lexer": "ipython3",
   "version": "3.8.5"
  }
 },
 "nbformat": 4,
 "nbformat_minor": 4
}
