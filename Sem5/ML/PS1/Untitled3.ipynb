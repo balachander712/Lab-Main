{
 "cells": [
  {
   "cell_type": "code",
   "execution_count": 1,
   "metadata": {},
   "outputs": [],
   "source": [
    "import numpy as np\n",
    "import pandas as pd"
   ]
  },
  {
   "cell_type": "code",
   "execution_count": 8,
   "metadata": {},
   "outputs": [],
   "source": [
    "data = pd.read_csv(\"data_set.csv\")"
   ]
  },
  {
   "cell_type": "code",
   "execution_count": 9,
   "metadata": {},
   "outputs": [
    {
     "data": {
      "text/plain": [
       "\u001b[1;31mType:\u001b[0m        property\n",
       "\u001b[1;31mString form:\u001b[0m <property object at 0x00000255E174D040>\n",
       "\u001b[1;31mDocstring:\u001b[0m  \n",
       "Purely integer-location based indexing for selection by position.\n",
       "\n",
       "``.iloc[]`` is primarily integer position based (from ``0`` to\n",
       "``length-1`` of the axis), but may also be used with a boolean\n",
       "array.\n",
       "\n",
       "Allowed inputs are:\n",
       "\n",
       "- An integer, e.g. ``5``.\n",
       "- A list or array of integers, e.g. ``[4, 3, 0]``.\n",
       "- A slice object with ints, e.g. ``1:7``.\n",
       "- A boolean array.\n",
       "- A ``callable`` function with one argument (the calling Series or\n",
       "  DataFrame) and that returns valid output for indexing (one of the above).\n",
       "  This is useful in method chains, when you don't have a reference to the\n",
       "  calling object, but would like to base your selection on some value.\n",
       "\n",
       "``.iloc`` will raise ``IndexError`` if a requested indexer is\n",
       "out-of-bounds, except *slice* indexers which allow out-of-bounds\n",
       "indexing (this conforms with python/numpy *slice* semantics).\n",
       "\n",
       "See more at :ref:`Selection by Position <indexing.integer>`.\n",
       "\n",
       "See Also\n",
       "--------\n",
       "DataFrame.iat : Fast integer location scalar accessor.\n",
       "DataFrame.loc : Purely label-location based indexer for selection by label.\n",
       "Series.iloc : Purely integer-location based indexing for\n",
       "               selection by position.\n",
       "\n",
       "Examples\n",
       "--------\n",
       ">>> mydict = [{'a': 1, 'b': 2, 'c': 3, 'd': 4},\n",
       "...           {'a': 100, 'b': 200, 'c': 300, 'd': 400},\n",
       "...           {'a': 1000, 'b': 2000, 'c': 3000, 'd': 4000 }]\n",
       ">>> df = pd.DataFrame(mydict)\n",
       ">>> df\n",
       "      a     b     c     d\n",
       "0     1     2     3     4\n",
       "1   100   200   300   400\n",
       "2  1000  2000  3000  4000\n",
       "\n",
       "**Indexing just the rows**\n",
       "\n",
       "With a scalar integer.\n",
       "\n",
       ">>> type(df.iloc[0])\n",
       "<class 'pandas.core.series.Series'>\n",
       ">>> df.iloc[0]\n",
       "a    1\n",
       "b    2\n",
       "c    3\n",
       "d    4\n",
       "Name: 0, dtype: int64\n",
       "\n",
       "With a list of integers.\n",
       "\n",
       ">>> df.iloc[[0]]\n",
       "   a  b  c  d\n",
       "0  1  2  3  4\n",
       ">>> type(df.iloc[[0]])\n",
       "<class 'pandas.core.frame.DataFrame'>\n",
       "\n",
       ">>> df.iloc[[0, 1]]\n",
       "     a    b    c    d\n",
       "0    1    2    3    4\n",
       "1  100  200  300  400\n",
       "\n",
       "With a `slice` object.\n",
       "\n",
       ">>> df.iloc[:3]\n",
       "      a     b     c     d\n",
       "0     1     2     3     4\n",
       "1   100   200   300   400\n",
       "2  1000  2000  3000  4000\n",
       "\n",
       "With a boolean mask the same length as the index.\n",
       "\n",
       ">>> df.iloc[[True, False, True]]\n",
       "      a     b     c     d\n",
       "0     1     2     3     4\n",
       "2  1000  2000  3000  4000\n",
       "\n",
       "With a callable, useful in method chains. The `x` passed\n",
       "to the ``lambda`` is the DataFrame being sliced. This selects\n",
       "the rows whose index label even.\n",
       "\n",
       ">>> df.iloc[lambda x: x.index % 2 == 0]\n",
       "      a     b     c     d\n",
       "0     1     2     3     4\n",
       "2  1000  2000  3000  4000\n",
       "\n",
       "**Indexing both axes**\n",
       "\n",
       "You can mix the indexer types for the index and columns. Use ``:`` to\n",
       "select the entire axis.\n",
       "\n",
       "With scalar integers.\n",
       "\n",
       ">>> df.iloc[0, 1]\n",
       "2\n",
       "\n",
       "With lists of integers.\n",
       "\n",
       ">>> df.iloc[[0, 2], [1, 3]]\n",
       "      b     d\n",
       "0     2     4\n",
       "2  2000  4000\n",
       "\n",
       "With `slice` objects.\n",
       "\n",
       ">>> df.iloc[1:3, 0:3]\n",
       "      a     b     c\n",
       "1   100   200   300\n",
       "2  1000  2000  3000\n",
       "\n",
       "With a boolean array whose length matches the columns.\n",
       "\n",
       ">>> df.iloc[:, [True, False, True, False]]\n",
       "      a     c\n",
       "0     1     3\n",
       "1   100   300\n",
       "2  1000  3000\n",
       "\n",
       "With a callable function that expects the Series or DataFrame.\n",
       "\n",
       ">>> df.iloc[:, lambda df: [0, 2]]\n",
       "      a     c\n",
       "0     1     3\n",
       "1   100   300\n",
       "2  1000  3000\n"
      ]
     },
     "metadata": {},
     "output_type": "display_data"
    }
   ],
   "source": [
    "data.iloc?"
   ]
  },
  {
   "cell_type": "code",
   "execution_count": 10,
   "metadata": {},
   "outputs": [
    {
     "data": {
      "text/plain": [
       "\u001b[1;31mSignature:\u001b[0m \u001b[0msum\u001b[0m\u001b[1;33m(\u001b[0m\u001b[0miterable\u001b[0m\u001b[1;33m,\u001b[0m \u001b[1;33m/\u001b[0m\u001b[1;33m,\u001b[0m \u001b[0mstart\u001b[0m\u001b[1;33m=\u001b[0m\u001b[1;36m0\u001b[0m\u001b[1;33m)\u001b[0m\u001b[1;33m\u001b[0m\u001b[1;33m\u001b[0m\u001b[0m\n",
       "\u001b[1;31mDocstring:\u001b[0m\n",
       "Return the sum of a 'start' value (default: 0) plus an iterable of numbers\n",
       "\n",
       "When the iterable is empty, return the start value.\n",
       "This function is intended specifically for use with numeric values and may\n",
       "reject non-numeric types.\n",
       "\u001b[1;31mType:\u001b[0m      builtin_function_or_method\n"
      ]
     },
     "metadata": {},
     "output_type": "display_data"
    }
   ],
   "source": [
    "sum?"
   ]
  },
  {
   "cell_type": "code",
   "execution_count": null,
   "metadata": {},
   "outputs": [],
   "source": [
    "def model(x,y):\n",
    "    x = np.insert(x, 0, np.full(x.shape[0], 1, dtype=int), 1)\n",
    "    w = np.random.rand(x.shape[1])\n",
    "    converged = False\n",
    "    \n",
    "    while not converged:\n",
    "        gd = np.full(x.shape[1], 0, dtype=int)\n",
    "        for i in range(0, x.shape[1]):\n",
    "            yhat = np.dot(w.T, x[i])\n",
    "            gd = gd + (y[i] - yhat)*x[i]\n",
    "            \n",
    "        if np.all(np.abs(gd) <= 0.01):\n",
    "            converged = True\n",
    "        else:\n",
    "            w = "
   ]
  }
 ],
 "metadata": {
  "kernelspec": {
   "display_name": "Python 3",
   "language": "python",
   "name": "python3"
  },
  "language_info": {
   "codemirror_mode": {
    "name": "ipython",
    "version": 3
   },
   "file_extension": ".py",
   "mimetype": "text/x-python",
   "name": "python",
   "nbconvert_exporter": "python",
   "pygments_lexer": "ipython3",
   "version": "3.8.5"
  }
 },
 "nbformat": 4,
 "nbformat_minor": 4
}
