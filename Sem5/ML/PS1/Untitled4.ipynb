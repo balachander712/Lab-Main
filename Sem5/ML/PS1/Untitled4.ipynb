{
 "cells": [
  {
   "cell_type": "code",
   "execution_count": 1,
   "metadata": {},
   "outputs": [],
   "source": [
    "import numpy as np\n",
    "import matplotlib.pyplot as plt"
   ]
  },
  {
   "cell_type": "code",
   "execution_count": 2,
   "metadata": {},
   "outputs": [],
   "source": [
    "def plot(weights, inputs, targets):\n",
    "    range_x = np.linspace(-10, 10)\n",
    "    fig, ax = plt.subplots()\n",
    "\n",
    "    ax.plot(range_x, range_x * (weights[1] + weights[0]))\n",
    "\n",
    "    for coord, target in zip(inputs, targets):\n",
    "        ax.plot(coord[1], target, 'ro')"
   ]
  },
  {
   "cell_type": "code",
   "execution_count": 10,
   "metadata": {},
   "outputs": [],
   "source": [
    "def model(x, y):\n",
    "    x = np.insert(x, 0, np.full(x.shape[0], 1, dtype=int), 1)\n",
    "    w = np.random.rand(x.shape[1])\n",
    "    print(x.shape[0])\n",
    "    # w = np.full(x.shape[1], 1, dtype=int)\n",
    "    converged = False\n",
    "    epoch = 0\n",
    "    while not converged:\n",
    "        epoch += 1\n",
    "        gd = np.full(x.shape[1], 0, dtype=int)\n",
    "        for i in range(0, x.shape[0]):\n",
    "            yhat = np.dot(w, x[i])\n",
    "            gd = gd + (y[i] - yhat)*x[i]\n",
    "\n",
    "        if np.all(np.abs(gd) <= 0.01):\n",
    "            converged = True\n",
    "        else:\n",
    "            w = w + 1e-3*gd\n",
    "    print(\"Number of epochs\", epoch)\n",
    "    plot(w, x, y)\n",
    "    return w"
   ]
  },
  {
   "cell_type": "code",
   "execution_count": 11,
   "metadata": {},
   "outputs": [
    {
     "name": "stdout",
     "output_type": "stream",
     "text": [
      "7\n",
      "Number of epochs 21391\n",
      "Weights are [-2.63254896  9.49189199]\n"
     ]
    },
    {
     "data": {
      "image/png": "[encoded data removed]",
      "text/plain": [
       "<Figure size 432x288 with 1 Axes>"
      ]
     },
     "metadata": {
      "needs_background": "light"
     },
     "output_type": "display_data"
    }
   ],
   "source": [
    "weights = model(np.array([[4], [4.5], [5], [5.5], [6], [6.5], [7]]), np.array([33, 42, 45, 51, 53, 61, 62]))\n",
    "print(\"Weights are\", weights)"
   ]
  },
  {
   "cell_type": "code",
   "execution_count": 12,
   "metadata": {},
   "outputs": [
    {
     "data": {
      "text/plain": [
       "<matplotlib.collections.PathCollection at 0x16eefca1790>"
      ]
     },
     "execution_count": 12,
     "metadata": {},
     "output_type": "execute_result"
    },
    {
     "data": {
      "image/png": "[encoded data removed]",
      "text/plain": [
       "<Figure size 432x288 with 1 Axes>"
      ]
     },
     "metadata": {
      "needs_background": "light"
     },
     "output_type": "display_data"
    }
   ],
   "source": [
    "plt.scatter(np.array([[4], [4.5], [5], [5.5], [6], [6.5], [7]]), np.array([33, 42, 45, 51, 53, 61, 62]))"
   ]
  },
  {
   "cell_type": "code",
   "execution_count": null,
   "metadata": {},
   "outputs": [],
   "source": []
  }
 ],
 "metadata": {
  "kernelspec": {
   "display_name": "Python 3",
   "language": "python",
   "name": "python3"
  },
  "language_info": {
   "codemirror_mode": {
    "name": "ipython",
    "version": 3
   },
   "file_extension": ".py",
   "mimetype": "text/x-python",
   "name": "python",
   "nbconvert_exporter": "python",
   "pygments_lexer": "ipython3",
   "version": "3.8.5"
  }
 },
 "nbformat": 4,
 "nbformat_minor": 4
}
