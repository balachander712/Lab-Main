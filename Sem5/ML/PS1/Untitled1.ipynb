{
 "cells": [
  {
   "cell_type": "code",
   "execution_count": 1,
   "metadata": {},
   "outputs": [
    {
     "ename": "SyntaxError",
     "evalue": "unexpected EOF while parsing (<ipython-input-1-9d97712ed642>, line 16)",
     "output_type": "error",
     "traceback": [
      "\u001b[1;36m  File \u001b[1;32m\"<ipython-input-1-9d97712ed642>\"\u001b[1;36m, line \u001b[1;32m16\u001b[0m\n\u001b[1;33m    if y[i]==yhat:\u001b[0m\n\u001b[1;37m                  ^\u001b[0m\n\u001b[1;31mSyntaxError\u001b[0m\u001b[1;31m:\u001b[0m unexpected EOF while parsing\n"
     ]
    }
   ],
   "source": [
    "import numpy\n",
    "x1 = numpy.array([0,0,1,1])\n",
    "x2 = numpy.array([0,1,0,1])\n",
    "y = numpy.array([0,0,0,1])\n",
    "w = numpy.array([-0.5, 0.5, 0,5])\n",
    "convergence = False\n",
    "while not convergence:\n",
    "  for i in range(x1.size):\n",
    "    x = numpy.array([1,x1[i],x2[i]])\n",
    "    yhat_val = x[0]*w[0]+x[1]*w[1]+x[2]*w[2]\n",
    "    # print(w.size)\n",
    "    # print(x.size)\n",
    "    # yhat_val = numpy.dot(w,x)\n",
    "    yhat = 1 if yhat_val>=0 else 0\n",
    "    print(yhat)\n",
    "    if y[i]==yhat:"
   ]
  },
  {
   "cell_type": "code",
   "execution_count": null,
   "metadata": {},
   "outputs": [],
   "source": []
  }
 ],
 "metadata": {
  "kernelspec": {
   "display_name": "Python 3",
   "language": "python",
   "name": "python3"
  },
  "language_info": {
   "codemirror_mode": {
    "name": "ipython",
    "version": 3
   },
   "file_extension": ".py",
   "mimetype": "text/x-python",
   "name": "python",
   "nbconvert_exporter": "python",
   "pygments_lexer": "ipython3",
   "version": "3.8.5"
  }
 },
 "nbformat": 4,
 "nbformat_minor": 4
}
